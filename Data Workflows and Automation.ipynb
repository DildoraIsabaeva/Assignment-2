{
 "cells": [
  {
   "cell_type": "code",
   "execution_count": 1,
   "metadata": {},
   "outputs": [
    {
     "name": "stdout",
     "output_type": "stream",
     "text": [
      "['lion', 'tiger', 'crocodile', 'vulture', 'hippo']\n"
     ]
    }
   ],
   "source": [
    "animals = ['lion', 'tiger', 'crocodile', 'vulture', 'hippo']\n",
    "print(animals)"
   ]
  },
  {
   "cell_type": "code",
   "execution_count": 2,
   "metadata": {
    "scrolled": true
   },
   "outputs": [
    {
     "name": "stdout",
     "output_type": "stream",
     "text": [
      "lion\n",
      "tiger\n",
      "crocodile\n",
      "vulture\n",
      "hippo\n"
     ]
    }
   ],
   "source": [
    "for creature in animals:\n",
    "    print(creature)"
   ]
  },
  {
   "cell_type": "code",
   "execution_count": 3,
   "metadata": {},
   "outputs": [],
   "source": [
    "animals = ['lion', 'tiger', 'crocodile', 'vulture', 'hippo']\n",
    "for creature in animals:\n",
    "    pass"
   ]
  },
  {
   "cell_type": "code",
   "execution_count": 4,
   "metadata": {},
   "outputs": [
    {
     "name": "stdout",
     "output_type": "stream",
     "text": [
      "The loop variable is now: hippo\n"
     ]
    }
   ],
   "source": [
    "print('The loop variable is now: ' + creature)"
   ]
  },
  {
   "cell_type": "code",
   "execution_count": 16,
   "metadata": {},
   "outputs": [
    {
     "ename": "SyntaxError",
     "evalue": "unexpected EOF while parsing (<ipython-input-16-3e5445e46d23>, line 2)",
     "output_type": "error",
     "traceback": [
      "\u001b[1;36m  File \u001b[1;32m\"<ipython-input-16-3e5445e46d23>\"\u001b[1;36m, line \u001b[1;32m2\u001b[0m\n\u001b[1;33m    for creature in animals:\u001b[0m\n\u001b[1;37m                            ^\u001b[0m\n\u001b[1;31mSyntaxError\u001b[0m\u001b[1;31m:\u001b[0m unexpected EOF while parsing\n"
     ]
    }
   ],
   "source": [
    "animals = ['lion', 'tiger', 'crocodile', 'vulture', 'hippo']\n",
    "for creature in animals:"
   ]
  },
  {
   "cell_type": "code",
   "execution_count": 15,
   "metadata": {},
   "outputs": [
    {
     "name": "stdout",
     "output_type": "stream",
     "text": [
      "lion, tiger, crocodile, vulture, hippo\n"
     ]
    }
   ],
   "source": [
    "print('lion, tiger, crocodile, vulture, hippo')"
   ]
  },
  {
   "cell_type": "code",
   "execution_count": 19,
   "metadata": {},
   "outputs": [
    {
     "name": "stdout",
     "output_type": "stream",
     "text": [
      "The loop variable is now:lion, tiger, crocodile, vulture, hippo\n"
     ]
    }
   ],
   "source": [
    "print('The loop variable is now:' 'lion, tiger, crocodile, vulture, hippo')"
   ]
  },
  {
   "cell_type": "code",
   "execution_count": 20,
   "metadata": {},
   "outputs": [],
   "source": [
    "import os"
   ]
  },
  {
   "cell_type": "code",
   "execution_count": 21,
   "metadata": {},
   "outputs": [],
   "source": [
    "os.mkdir('D:/university/advanced language progamme design/yearly_files')"
   ]
  },
  {
   "cell_type": "code",
   "execution_count": 26,
   "metadata": {},
   "outputs": [
    {
     "data": {
      "text/plain": [
       "['combined.csv',\n",
       " 'combined.json',\n",
       " 'create_portal_teaching_dataset.py',\n",
       " 'old.py',\n",
       " 'plots.csv',\n",
       " 'plots.json',\n",
       " 'portal_mammals.sqlite',\n",
       " 'Portal_rodents_19772002_scinameUUIDs.csv',\n",
       " 'PP3E.zip',\n",
       " \"Programming Python, 3rd Edition (2006)-O'Reilly.chm\",\n",
       " 'Python 3.7',\n",
       " 'README.md',\n",
       " 'species.csv',\n",
       " 'species.json',\n",
       " 'surveys.csv',\n",
       " 'surveys.json',\n",
       " 'survey_data_spreadsheet_messy.xls',\n",
       " 'yearly_files']"
      ]
     },
     "execution_count": 26,
     "metadata": {},
     "output_type": "execute_result"
    }
   ],
   "source": [
    "os.listdir('D:/university/advanced language progamme design')"
   ]
  },
  {
   "cell_type": "code",
   "execution_count": 27,
   "metadata": {},
   "outputs": [],
   "source": [
    "import pandas as pd"
   ]
  },
  {
   "cell_type": "code",
   "execution_count": 28,
   "metadata": {},
   "outputs": [],
   "source": [
    "surveys_df = pd.read_csv('D:/university/advanced language progamme design/surveys.csv')"
   ]
  },
  {
   "cell_type": "code",
   "execution_count": 29,
   "metadata": {},
   "outputs": [],
   "source": [
    "surveys2002 = surveys_df[surveys_df.year == 2002]"
   ]
  },
  {
   "cell_type": "code",
   "execution_count": 30,
   "metadata": {},
   "outputs": [],
   "source": [
    "surveys2002.to_csv('D:/university/advanced language progamme design/yearly_files/surveys2002.csv')"
   ]
  },
  {
   "cell_type": "code",
   "execution_count": 31,
   "metadata": {
    "scrolled": true
   },
   "outputs": [
    {
     "data": {
      "text/plain": [
       "0        1977\n",
       "1        1977\n",
       "2        1977\n",
       "3        1977\n",
       "4        1977\n",
       "5        1977\n",
       "6        1977\n",
       "7        1977\n",
       "8        1977\n",
       "9        1977\n",
       "10       1977\n",
       "11       1977\n",
       "12       1977\n",
       "13       1977\n",
       "14       1977\n",
       "15       1977\n",
       "16       1977\n",
       "17       1977\n",
       "18       1977\n",
       "19       1977\n",
       "20       1977\n",
       "21       1977\n",
       "22       1977\n",
       "23       1977\n",
       "24       1977\n",
       "25       1977\n",
       "26       1977\n",
       "27       1977\n",
       "28       1977\n",
       "29       1977\n",
       "         ... \n",
       "35519    2002\n",
       "35520    2002\n",
       "35521    2002\n",
       "35522    2002\n",
       "35523    2002\n",
       "35524    2002\n",
       "35525    2002\n",
       "35526    2002\n",
       "35527    2002\n",
       "35528    2002\n",
       "35529    2002\n",
       "35530    2002\n",
       "35531    2002\n",
       "35532    2002\n",
       "35533    2002\n",
       "35534    2002\n",
       "35535    2002\n",
       "35536    2002\n",
       "35537    2002\n",
       "35538    2002\n",
       "35539    2002\n",
       "35540    2002\n",
       "35541    2002\n",
       "35542    2002\n",
       "35543    2002\n",
       "35544    2002\n",
       "35545    2002\n",
       "35546    2002\n",
       "35547    2002\n",
       "35548    2002\n",
       "Name: year, Length: 35549, dtype: int64"
      ]
     },
     "execution_count": 31,
     "metadata": {},
     "output_type": "execute_result"
    }
   ],
   "source": [
    "surveys_df['year']"
   ]
  },
  {
   "cell_type": "code",
   "execution_count": 32,
   "metadata": {
    "scrolled": true
   },
   "outputs": [
    {
     "data": {
      "text/plain": [
       "array([1977, 1978, 1979, 1980, 1981, 1982, 1983, 1984, 1985, 1986, 1987,\n",
       "       1988, 1989, 1990, 1991, 1992, 1993, 1994, 1995, 1996, 1997, 1998,\n",
       "       1999, 2000, 2001, 2002], dtype=int64)"
      ]
     },
     "execution_count": 32,
     "metadata": {},
     "output_type": "execute_result"
    }
   ],
   "source": [
    "surveys_df['year'].unique()"
   ]
  },
  {
   "cell_type": "code",
   "execution_count": 56,
   "metadata": {
    "scrolled": true
   },
   "outputs": [
    {
     "name": "stdout",
     "output_type": "stream",
     "text": [
      "D:/university/advanced language progamme design/yearly_files/surveys1977.csv\n",
      "D:/university/advanced language progamme design/yearly_files/surveys1978.csv\n",
      "D:/university/advanced language progamme design/yearly_files/surveys1979.csv\n",
      "D:/university/advanced language progamme design/yearly_files/surveys1980.csv\n",
      "D:/university/advanced language progamme design/yearly_files/surveys1981.csv\n",
      "D:/university/advanced language progamme design/yearly_files/surveys1982.csv\n",
      "D:/university/advanced language progamme design/yearly_files/surveys1983.csv\n",
      "D:/university/advanced language progamme design/yearly_files/surveys1984.csv\n",
      "D:/university/advanced language progamme design/yearly_files/surveys1985.csv\n",
      "D:/university/advanced language progamme design/yearly_files/surveys1986.csv\n",
      "D:/university/advanced language progamme design/yearly_files/surveys1987.csv\n",
      "D:/university/advanced language progamme design/yearly_files/surveys1988.csv\n",
      "D:/university/advanced language progamme design/yearly_files/surveys1989.csv\n",
      "D:/university/advanced language progamme design/yearly_files/surveys1990.csv\n",
      "D:/university/advanced language progamme design/yearly_files/surveys1991.csv\n",
      "D:/university/advanced language progamme design/yearly_files/surveys1992.csv\n",
      "D:/university/advanced language progamme design/yearly_files/surveys1993.csv\n",
      "D:/university/advanced language progamme design/yearly_files/surveys1994.csv\n",
      "D:/university/advanced language progamme design/yearly_files/surveys1995.csv\n",
      "D:/university/advanced language progamme design/yearly_files/surveys1996.csv\n",
      "D:/university/advanced language progamme design/yearly_files/surveys1997.csv\n",
      "D:/university/advanced language progamme design/yearly_files/surveys1998.csv\n",
      "D:/university/advanced language progamme design/yearly_files/surveys1999.csv\n",
      "D:/university/advanced language progamme design/yearly_files/surveys2000.csv\n",
      "D:/university/advanced language progamme design/yearly_files/surveys2001.csv\n",
      "D:/university/advanced language progamme design/yearly_files/surveys2002.csv\n"
     ]
    }
   ],
   "source": [
    "for year in surveys_df['year'].unique():\n",
    "   filename='D:/university/advanced language progamme design/yearly_files/surveys' + str(year) + '.csv'\n",
    "   print(filename)\n"
   ]
  },
  {
   "cell_type": "code",
   "execution_count": 71,
   "metadata": {},
   "outputs": [],
   "source": [
    "surveys_df = pd.read_csv('D:/university/advanced language progamme design/surveys.csv')\n"
   ]
  },
  {
   "cell_type": "code",
   "execution_count": 66,
   "metadata": {
    "scrolled": true
   },
   "outputs": [],
   "source": [
    "filename = 'D:/university/advanced language progamme design/yearly_files/surveys' + str(year) + '.csv'"
   ]
  },
  {
   "cell_type": "code",
   "execution_count": 72,
   "metadata": {},
   "outputs": [],
   "source": [
    "def this_is_the_function_name(input_argument1, input_argument2):\n",
    "    print('The function arguments are:', input_argument1, input_argument2, '(this is done inside the function!)')\n",
    "    return input_argument1 * input_argument2"
   ]
  },
  {
   "cell_type": "code",
   "execution_count": 73,
   "metadata": {},
   "outputs": [
    {
     "name": "stdout",
     "output_type": "stream",
     "text": [
      "The function arguments are: 2 5 (this is done inside the function!)\n"
     ]
    }
   ],
   "source": [
    "product_of_inputs = this_is_the_function_name(2,5)"
   ]
  },
  {
   "cell_type": "code",
   "execution_count": 75,
   "metadata": {},
   "outputs": [
    {
     "name": "stdout",
     "output_type": "stream",
     "text": [
      "Their product is: 10 (this is done outside the function!)\n"
     ]
    }
   ],
   "source": [
    "print('Their product is:', product_of_inputs, '(this is done outside the function!)')"
   ]
  },
  {
   "cell_type": "code",
   "execution_count": 93,
   "metadata": {},
   "outputs": [],
   "source": [
    "def one_year_csv_writer(this_year, all_data):\n",
    "    \n",
    "    \n",
    "    surveys_year = all_data[all_data.year == this_year]\n",
    "\n",
    "    \n",
    "    filename = 'D:/university/advanced language progamme design/yearly_files/function_surveys' + str(this_year) + '.csv'\n",
    "    surveys_year.to_csv(filename)"
   ]
  },
  {
   "cell_type": "code",
   "execution_count": 88,
   "metadata": {},
   "outputs": [],
   "source": [
    "one_year_csv_writer?\n"
   ]
  },
  {
   "cell_type": "code",
   "execution_count": 94,
   "metadata": {},
   "outputs": [],
   "source": [
    "one_year_csv_writer(2002, surveys_df)"
   ]
  },
  {
   "cell_type": "code",
   "execution_count": 95,
   "metadata": {},
   "outputs": [],
   "source": [
    "def yearly_data_csv_writer(start_year, end_year, all_data):\n",
    "    \n",
    "\n",
    "   \n",
    "    for year in range(start_year, end_year+1):\n",
    "        one_year_csv_writer(year, all_data)"
   ]
  },
  {
   "cell_type": "code",
   "execution_count": 96,
   "metadata": {},
   "outputs": [],
   "source": [
    "surveys_df = pd.read_csv('D:/university/advanced language progamme design/surveys.csv')"
   ]
  },
  {
   "cell_type": "code",
   "execution_count": 97,
   "metadata": {},
   "outputs": [],
   "source": [
    "yearly_data_csv_writer(1977, 2002, surveys_df)"
   ]
  },
  {
   "cell_type": "code",
   "execution_count": 98,
   "metadata": {},
   "outputs": [
    {
     "name": "stdout",
     "output_type": "stream",
     "text": [
      "Both optional arguments:\t 1988 1993\n",
      "Default values:\t\t\t 1977 2002\n"
     ]
    }
   ],
   "source": [
    "def yearly_data_arg_test(all_data, start_year = 1977, end_year = 2002):\n",
    "    return start_year, end_year\n",
    "start,end = yearly_data_arg_test (surveys_df, 1988, 1993)\n",
    "print('Both optional arguments:\\t', start, end)\n",
    "start,end = yearly_data_arg_test (surveys_df)\n",
    "print('Default values:\\t\\t\\t', start, end)"
   ]
  },
  {
   "cell_type": "code",
   "execution_count": 100,
   "metadata": {},
   "outputs": [
    {
     "name": "stdout",
     "output_type": "stream",
     "text": [
      "Both optional arguments:\t 1988 1993\n",
      "Default values:\t\t\t 1977 2002\n"
     ]
    }
   ],
   "source": [
    "def yearly_data_arg_test(all_data, start_year = None, end_year = None):\n",
    "    if start_year is None:\n",
    "        start_year = min(all_data.year)\n",
    "    if end_year is None:\n",
    "        end_year = max(all_data.year)\n",
    "\n",
    "    return start_year, end_year\n",
    "\n",
    "\n",
    "start,end = yearly_data_arg_test (surveys_df, 1988, 1993)\n",
    "print('Both optional arguments:\\t', start, end)\n",
    "\n",
    "start,end = yearly_data_arg_test (surveys_df)\n",
    "print('Default values:\\t\\t\\t', start, end)"
   ]
  },
  {
   "cell_type": "code",
   "execution_count": 107,
   "metadata": {},
   "outputs": [
    {
     "name": "stdout",
     "output_type": "stream",
     "text": [
      "a is a positive number\n"
     ]
    }
   ],
   "source": [
    "a = 5\n",
    "\n",
    "if a<0:  \n",
    "\n",
    "    print('a is a negative number')\n",
    "\n",
    "elif a>0:  \n",
    "\n",
    "\n",
    "    print('a is a positive number')\n",
    "\n",
    "else:  \n",
    "\n",
    "    print('a must be zero!')\n"
   ]
  },
  {
   "cell_type": "code",
   "execution_count": 108,
   "metadata": {},
   "outputs": [
    {
     "name": "stdout",
     "output_type": "stream",
     "text": [
      "Default values:\t\t\t 1977 2002\n",
      "No keywords:\t\t\t 1988 1993\n",
      "Both keywords, in order:\t 1988 1993\n",
      "Both keywords, flipped:\t\t 1988 1993\n",
      "One keyword, default end:\t 1988 2002\n",
      "One keyword, default start:\t 1977 1993\n"
     ]
    }
   ],
   "source": [
    "start,end = yearly_data_arg_test (surveys_df)\n",
    "print('Default values:\\t\\t\\t', start, end)\n",
    "\n",
    "start,end = yearly_data_arg_test (surveys_df, 1988, 1993)\n",
    "print('No keywords:\\t\\t\\t', start, end)\n",
    "\n",
    "start,end = yearly_data_arg_test (surveys_df, start_year = 1988, end_year = 1993)\n",
    "print('Both keywords, in order:\\t', start, end)\n",
    "\n",
    "start,end = yearly_data_arg_test (surveys_df, end_year = 1993, start_year = 1988)\n",
    "print('Both keywords, flipped:\\t\\t', start, end)\n",
    "\n",
    "start,end = yearly_data_arg_test (surveys_df, start_year = 1988)\n",
    "print('One keyword, default end:\\t', start, end)\n",
    "\n",
    "start,end = yearly_data_arg_test (surveys_df, end_year = 1993)\n",
    "print('One keyword, default start:\\t', start, end)"
   ]
  },
  {
   "cell_type": "code",
   "execution_count": 109,
   "metadata": {
    "scrolled": true
   },
   "outputs": [
    {
     "name": "stdout",
     "output_type": "stream",
     "text": [
      "Processed directory created\n"
     ]
    }
   ],
   "source": [
    "if 'dir_name_here' in os.listdir('.'):\n",
    "   print('Processed directory exists')\n",
    "else:\n",
    "   os.mkdir('dir_name_here')\n",
    "   print('Processed directory created')"
   ]
  },
  {
   "cell_type": "code",
   "execution_count": null,
   "metadata": {},
   "outputs": [],
   "source": []
  }
 ],
 "metadata": {
  "kernelspec": {
   "display_name": "Python 3",
   "language": "python",
   "name": "python3"
  },
  "language_info": {
   "codemirror_mode": {
    "name": "ipython",
    "version": 3
   },
   "file_extension": ".py",
   "mimetype": "text/x-python",
   "name": "python",
   "nbconvert_exporter": "python",
   "pygments_lexer": "ipython3",
   "version": "3.7.3"
  }
 },
 "nbformat": 4,
 "nbformat_minor": 2
}
